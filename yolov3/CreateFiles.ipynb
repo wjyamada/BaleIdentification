{
 "cells": [
  {
   "cell_type": "code",
   "execution_count": 1,
   "metadata": {},
   "outputs": [],
   "source": [
    "import numpy as np\n",
    "import pandas as pd\n",
    "import random\n",
    "from os import walk\n",
    "from shutil import copy"
   ]
  },
  {
   "cell_type": "code",
   "execution_count": 2,
   "metadata": {},
   "outputs": [],
   "source": [
    "path_datas = '../Database/Bales/'"
   ]
  },
  {
   "cell_type": "code",
   "execution_count": 3,
   "metadata": {},
   "outputs": [],
   "source": [
    "dirnames = []\n",
    "for (dp, dn, f) in walk(path_datas):\n",
    "    dirnames.extend(dn)\n",
    "    break\n",
    "try:\n",
    "    dirnames.remove('Segmented')\n",
    "except:\n",
    "    pass\n",
    "dirnames.sort()\n",
    "dirnames = [path_datas+str(i)+'/' for i in dirnames]"
   ]
  },
  {
   "cell_type": "code",
   "execution_count": 4,
   "metadata": {},
   "outputs": [
    {
     "data": {
      "text/plain": [
       "['../Database/Bales/0/', '../Database/Bales/1/', '../Database/Bales/2/']"
      ]
     },
     "execution_count": 4,
     "metadata": {},
     "output_type": "execute_result"
    }
   ],
   "source": [
    "dirnames"
   ]
  },
  {
   "cell_type": "code",
   "execution_count": 5,
   "metadata": {},
   "outputs": [],
   "source": [
    "def get_txts(path):\n",
    "    files = []\n",
    "    for (_,_,f) in walk(path):\n",
    "        files.extend(f)\n",
    "        break\n",
    "    files = [path+f for f in files if '.JPG' in f]\n",
    "    return files"
   ]
  },
  {
   "cell_type": "code",
   "execution_count": 6,
   "metadata": {},
   "outputs": [
    {
     "data": {
      "text/plain": [
       "132"
      ]
     },
     "execution_count": 6,
     "metadata": {},
     "output_type": "execute_result"
    }
   ],
   "source": [
    "path0 = get_txts(dirnames[0])\n",
    "path0 = sorted(path0)\n",
    "len(path0)"
   ]
  },
  {
   "cell_type": "code",
   "execution_count": 7,
   "metadata": {},
   "outputs": [
    {
     "data": {
      "text/plain": [
       "53"
      ]
     },
     "execution_count": 7,
     "metadata": {},
     "output_type": "execute_result"
    }
   ],
   "source": [
    "path1 = get_txts(dirnames[1])\n",
    "path1 = sorted(path1)\n",
    "len(path1)"
   ]
  },
  {
   "cell_type": "code",
   "execution_count": 8,
   "metadata": {},
   "outputs": [
    {
     "data": {
      "text/plain": [
       "115"
      ]
     },
     "execution_count": 8,
     "metadata": {},
     "output_type": "execute_result"
    }
   ],
   "source": [
    "path2 = get_txts(dirnames[2])\n",
    "path2 = sorted(path2)\n",
    "len(path2)"
   ]
  },
  {
   "cell_type": "code",
   "execution_count": 9,
   "metadata": {},
   "outputs": [],
   "source": [
    "data = []\n",
    "data.extend(path0)\n",
    "data.extend(path1)\n",
    "data.extend(path2)\n",
    "random.shuffle(data)"
   ]
  },
  {
   "cell_type": "code",
   "execution_count": 10,
   "metadata": {},
   "outputs": [],
   "source": [
    "train = data[:-len(data)//10]\n",
    "test = data[len(data)-len(data)//10:]\n",
    "val = train[len(train)-len(train)//10:]\n",
    "train = train[:-len(train)//10]"
   ]
  },
  {
   "cell_type": "code",
   "execution_count": 11,
   "metadata": {},
   "outputs": [
    {
     "name": "stdout",
     "output_type": "stream",
     "text": [
      "300   243   30   27\n"
     ]
    }
   ],
   "source": [
    "print(len(data),' ',len(train),' ',len(test),' ',len(val))"
   ]
  },
  {
   "cell_type": "code",
   "execution_count": 12,
   "metadata": {},
   "outputs": [],
   "source": [
    "for t in test:\n",
    "    copy(t,'data/samples/')"
   ]
  },
  {
   "cell_type": "code",
   "execution_count": 13,
   "metadata": {},
   "outputs": [],
   "source": [
    "train_name = 'balestrain.txt'\n",
    "val_name = 'balesval.txt'"
   ]
  },
  {
   "cell_type": "code",
   "execution_count": 14,
   "metadata": {},
   "outputs": [],
   "source": [
    "ftrain = open(r\"data/\"+train_name,\"w+\")\n",
    "for file in train:\n",
    "    ftrain.write(file+'\\n')\n",
    "ftrain.close()"
   ]
  },
  {
   "cell_type": "code",
   "execution_count": 15,
   "metadata": {},
   "outputs": [],
   "source": [
    "fval = open(r\"data/\"+val_name,\"w+\")\n",
    "for file in val:\n",
    "    fval.write(file+'\\n')\n",
    "fval.close()"
   ]
  },
  {
   "cell_type": "code",
   "execution_count": 16,
   "metadata": {},
   "outputs": [],
   "source": [
    "fnames = open(r\"data/bales.coco\",\"w+\")\n",
    "fnames.write('bale')\n",
    "fnames.close()"
   ]
  },
  {
   "cell_type": "code",
   "execution_count": 17,
   "metadata": {},
   "outputs": [],
   "source": [
    "fdata = open(r\"data/bales.data\",\"w+\")\n",
    "fdata.write('classes=1\\n')\n",
    "fdata.write('train=data/'+train_name+'\\n')\n",
    "fdata.write('valid=data/'+val_name+'\\n')\n",
    "fdata.write('names=data/bales.coco')\n",
    "fdata.close()"
   ]
  },
  {
   "cell_type": "code",
   "execution_count": null,
   "metadata": {},
   "outputs": [],
   "source": []
  }
 ],
 "metadata": {
  "kernelspec": {
   "display_name": "Python 3",
   "language": "python",
   "name": "python3"
  },
  "language_info": {
   "codemirror_mode": {
    "name": "ipython",
    "version": 3
   },
   "file_extension": ".py",
   "mimetype": "text/x-python",
   "name": "python",
   "nbconvert_exporter": "python",
   "pygments_lexer": "ipython3",
   "version": "3.8.1"
  }
 },
 "nbformat": 4,
 "nbformat_minor": 2
}
